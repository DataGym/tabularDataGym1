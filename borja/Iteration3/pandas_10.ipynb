{
 "cells": [
  {
   "cell_type": "code",
   "execution_count": null,
   "metadata": {
    "collapsed": true
   },
   "outputs": [],
   "source": [
    "import numpy as np\n",
    "import pandas as pd"
   ]
  },
  {
   "cell_type": "code",
   "execution_count": null,
   "metadata": {
    "collapsed": true
   },
   "outputs": [],
   "source": [
    "from rpy2.robjects import r\n",
    "from rpy2.robjects.pandas2ri import ri2py\n",
    "\n",
    "r('library(MASS)')\n",
    "boston = ri2py(r('Boston'))\n"
   ]
  },
  {
   "cell_type": "markdown",
   "metadata": {},
   "source": [
    "We add few columns and datats for exercise proposes "
   ]
  },
  {
   "cell_type": "code",
   "execution_count": null,
   "metadata": {
    "collapsed": false
   },
   "outputs": [],
   "source": [
    "boston['inverse_zn'] = 1/boston['zn']\n",
    "boston['ones'] = boston['inverse_zn'] * boston['zn']\n",
    "boston['stupid'] = 'stupid'\n",
    "\n",
    "boston2 = boston[['medv', 'ones']]\n",
    "\n",
    "boston_lstat = boston[['lstat', 'medv']]\n",
    "boston.head()"
   ]
  },
  {
   "cell_type": "markdown",
   "metadata": {},
   "source": [
    "### 1. Renaming columns in pandas\n",
    "http://stackoverflow.com/questions/11346283/renaming-columns-in-pandas\n",
    "\n",
    "Rename columns in boston_lstat to 'lower_status', 'median_value'"
   ]
  },
  {
   "cell_type": "code",
   "execution_count": null,
   "metadata": {
    "collapsed": false
   },
   "outputs": [],
   "source": []
  },
  {
   "cell_type": "markdown",
   "metadata": {},
   "source": [
    "### 2. Delete column from pandas DataFrame\n",
    "http://stackoverflow.com/questions/13411544/delete-column-from-pandas-dataframe\n",
    "\n",
    "Delete 'stupid' column from boston."
   ]
  },
  {
   "cell_type": "code",
   "execution_count": null,
   "metadata": {
    "collapsed": false
   },
   "outputs": [],
   "source": []
  },
  {
   "cell_type": "markdown",
   "metadata": {},
   "source": [
    "### 3. Adding new column to existing DataFrame in Python pandas\n",
    "\n",
    "http://stackoverflow.com/questions/12555323/adding-new-column-to-existing-dataframe-in-python-pandas\n",
    "\n",
    "Create boston3 DataFrame that contains all rows from boston2 that have 'medv' > 24. Then create new column 'normal' and assign to each row a number sampled from normal distribution with mu=100 and sigma=20."
   ]
  },
  {
   "cell_type": "code",
   "execution_count": null,
   "metadata": {
    "collapsed": false
   },
   "outputs": [],
   "source": []
  },
  {
   "cell_type": "markdown",
   "metadata": {},
   "source": [
    "### 4. add one row in a pandas.DataFrame\n",
    "\n",
    "http://stackoverflow.com/questions/10715965/add-one-row-in-a-pandas-dataframe\n",
    "\n",
    "I understand that pandas is designed to load fully populated DataFrame but I need to create an empty DataFrame then add rows, one by one. What is the best way to do this ?\n",
    "\n",
    "Create empty DataFrame 'best_dses' with columns 'people' and 'salary', and then add rows, one by one:\n",
    "\"Carlos\" 1,000,000, \n",
    "\"Aleix\" 10,000\n",
    "\"Bartek\" 8,000. "
   ]
  },
  {
   "cell_type": "code",
   "execution_count": null,
   "metadata": {
    "collapsed": false
   },
   "outputs": [],
   "source": []
  },
  {
   "cell_type": "markdown",
   "metadata": {},
   "source": [
    "### 5. How to drop rows of Pandas dataframe whose value of certain column is NaN\n",
    "http://stackoverflow.com/questions/13413590/how-to-drop-rows-of-pandas-dataframe-whose-value-of-certain-column-is-nan\n",
    "\n",
    "Do it with boston2's column 'ones'."
   ]
  },
  {
   "cell_type": "code",
   "execution_count": null,
   "metadata": {
    "collapsed": false
   },
   "outputs": [],
   "source": []
  },
  {
   "cell_type": "markdown",
   "metadata": {},
   "source": [
    "### 6. Pandas: change data type of columns\n",
    "http://stackoverflow.com/questions/15891038/pandas-change-data-type-of-columns\n",
    "\n",
    "Change type of column salary in best_dses to int (or to float if already it is int). "
   ]
  },
  {
   "cell_type": "code",
   "execution_count": null,
   "metadata": {
    "collapsed": false
   },
   "outputs": [],
   "source": []
  },
  {
   "cell_type": "markdown",
   "metadata": {},
   "source": [
    "### 7. Selecting columns\n",
    "http://stackoverflow.com/questions/11285613/selecting-columns\n",
    "\n",
    "Select columns 'age' and 'lstat' from boston and save it to boston_select DataFrame"
   ]
  },
  {
   "cell_type": "code",
   "execution_count": null,
   "metadata": {
    "collapsed": false
   },
   "outputs": [],
   "source": []
  },
  {
   "cell_type": "markdown",
   "metadata": {},
   "source": [
    "### 8. Get list from pandas DataFrame column headers\n",
    "http://stackoverflow.com/questions/19482970/get-list-from-pandas-dataframe-column-headers\n",
    "\n",
    "get list of column names of boston"
   ]
  },
  {
   "cell_type": "code",
   "execution_count": null,
   "metadata": {
    "collapsed": false
   },
   "outputs": [],
   "source": []
  },
  {
   "cell_type": "markdown",
   "metadata": {},
   "source": [
    "### 9. How to filter the DataFrame rows of pandas by “within”/“in”? (use a list of values to select rows from a pandas dataframe)\n",
    "\n",
    "http://stackoverflow.com/questions/12065885/how-to-filter-the-dataframe-rows-of-pandas-by-within-in\n",
    "http://stackoverflow.com/questions/12096252/use-a-list-of-values-to-select-rows-from-a-pandas-dataframe\n",
    "\n",
    "Select row that has values from list [24, 21.6]"
   ]
  },
  {
   "cell_type": "code",
   "execution_count": null,
   "metadata": {
    "collapsed": false
   },
   "outputs": [],
   "source": []
  },
  {
   "cell_type": "markdown",
   "metadata": {},
   "source": [
    "### 10. Convert list of dictionaries to Dataframe\n",
    "http://stackoverflow.com/questions/20638006/convert-list-of-dictionaries-to-dataframe\n",
    "\n",
    "Transform best_dses.to_dict('records') to DataFrame"
   ]
  },
  {
   "cell_type": "code",
   "execution_count": null,
   "metadata": {
    "collapsed": false
   },
   "outputs": [],
   "source": []
  }
 ],
 "metadata": {
  "kernelspec": {
   "display_name": "Python 3",
   "language": "python",
   "name": "python3"
  },
  "language_info": {
   "codemirror_mode": {
    "name": "ipython",
    "version": 3
   },
   "file_extension": ".py",
   "mimetype": "text/x-python",
   "name": "python",
   "nbconvert_exporter": "python",
   "pygments_lexer": "ipython3",
   "version": "3.5.0+"
  }
 },
 "nbformat": 4,
 "nbformat_minor": 0
}
